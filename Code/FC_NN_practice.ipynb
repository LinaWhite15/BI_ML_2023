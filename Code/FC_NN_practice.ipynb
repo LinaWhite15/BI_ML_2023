{
  "cells": [
    {
      "cell_type": "markdown",
      "metadata": {
        "colab_type": "text",
        "id": "view-in-github"
      },
      "source": [
        "<a href=\"https://colab.research.google.com/github/danon6868/BI-ml-2024/blob/main/lecture_8_pytorch/homework/FC_NN_practice.ipynb\" target=\"_parent\"><img src=\"https://colab.research.google.com/assets/colab-badge.svg\" alt=\"Open In Colab\"/></a>"
      ]
    },
    {
      "cell_type": "markdown",
      "metadata": {
        "id": "-pSGPQS8Btmc"
      },
      "source": [
        "Всем привет! Сегодня вы впервые попробуете написать свою собственную нейронную сеть и попробовать ее обучить. Мы будем работать с картинками, но пока что не совсем тем способом, которым лучше всего это делать, но должно получиться неплохо.\n",
        "\n",
        "Будем работать с [датасетом](https://github.com/rois-codh/kmnist) `Kuzushiji-MNIST` (`KMNIST`). Это рукописные буквы, изображения имеют размер (28, 28, 1) и разделены на 10 классов, по ссылке можно прочитать подробнее."
      ]
    },
    {
      "cell_type": "code",
      "execution_count": 1,
      "metadata": {
        "id": "75HVAP_RFU7r"
      },
      "outputs": [],
      "source": [
        "import numpy as np\n",
        "import torch\n",
        "import matplotlib.pyplot as plt\n",
        "from IPython.display import clear_output"
      ]
    },
    {
      "cell_type": "markdown",
      "metadata": {
        "id": "46iQ8ixtEruP"
      },
      "source": [
        "## Загрузка данных"
      ]
    },
    {
      "cell_type": "markdown",
      "metadata": {
        "id": "R6h1jVreJlV-"
      },
      "source": [
        "Сейчас мы будем использовать встроенные данные, но в реальности приходится писать свой класс для датасета (Dataset), у которого реализовывать несколько обязательных методов (напр, `__getitem__`), но это обсудим уже потом."
      ]
    },
    {
      "cell_type": "code",
      "execution_count": 2,
      "metadata": {
        "id": "s9L9Z02o_1bK"
      },
      "outputs": [],
      "source": [
        "import torchvision\n",
        "from torchvision.datasets import KMNIST\n",
        "\n",
        "\n",
        "# Превращает картинки в тензоры\n",
        "transform = torchvision.transforms.Compose(\n",
        "    [torchvision.transforms.ToTensor()])\n",
        "\n",
        "# Загрузим данные (в переменных лежат объекты типа `Dataset`)\n",
        "# В аргумент `transform` мы передаем необходимые трансформации (ToTensor)\n",
        "trainset = KMNIST(root=\"./KMNIST\", train=True, download=True, transform=transform)\n",
        "testset = KMNIST(root=\"./KMNIST\", train=False, download=True, transform=transform)\n",
        "\n",
        "clear_output()"
      ]
    },
    {
      "cell_type": "markdown",
      "metadata": {
        "id": "V83E2vDrO9CC"
      },
      "source": [
        "Определим даталоадеры, они нужны, чтобы реализовывать стохастический градиентный спуск (то есть мы не хотим считывать в оперативную память все картинки сразу, а делать это батчами)."
      ]
    },
    {
      "cell_type": "code",
      "execution_count": 3,
      "metadata": {
        "id": "oqC8XO8pO8Px"
      },
      "outputs": [],
      "source": [
        "from torch.utils.data import DataLoader\n",
        "\n",
        "\n",
        "# Можно оставить таким\n",
        "batch_size = 256\n",
        "\n",
        "trainloader = DataLoader(trainset, batch_size=batch_size, shuffle=True, num_workers=2)\n",
        "testloader = DataLoader(testset, batch_size=batch_size, shuffle=False, num_workers=2)"
      ]
    },
    {
      "cell_type": "markdown",
      "metadata": {
        "id": "-Ntp5sLoPyGx"
      },
      "source": [
        "Подумайте, как может влиять на скорость обучения параметр `batch_size`, почему вы так считаете?\n",
        "\n",
        "**Ответ:**"
      ]
    },
    {
      "cell_type": "markdown",
      "metadata": {
        "id": "t2vmM4KaHvrs"
      },
      "source": [
        "Посмотрим на какую-нибудь картинку:"
      ]
    },
    {
      "cell_type": "code",
      "execution_count": 4,
      "metadata": {
        "colab": {
          "base_uri": "https://localhost:8080/",
          "height": 266
        },
        "id": "N-b-kFCYAoOP",
        "outputId": "d077a35b-f874-40c2-e1da-1f461c11172f"
      },
      "outputs": [
        {
          "data": {
            "image/png": "[encoded data removed]",
            "text/plain": [
              "<Figure size 640x480 with 1 Axes>"
            ]
          },
          "metadata": {},
          "output_type": "display_data"
        }
      ],
      "source": [
        "plt.imshow(trainset[0][0].view(28, 28).numpy(), cmap=\"gray\")\n",
        "plt.axis(\"off\")\n",
        "plt.title(f\"Class is {trainset[0][1]}\", fontsize=16);"
      ]
    },
    {
      "cell_type": "markdown",
      "metadata": {
        "id": "8_MSY231Hzz9"
      },
      "source": [
        "### Задание 1. Смотрим на картинки\n",
        "\n",
        "**2** балла\n",
        "\n",
        "Нарисуйте на одном графике изображения всех 10 классов:"
      ]
    },
    {
      "cell_type": "markdown",
      "metadata": {
        "id": "j0tNdHM5JS6l"
      },
      "source": [
        "⣿⣿⣿⣿⣿⣿⠿⢋⣥⣴⣶⣶⣶⣬⣙⠻⠟⣋⣭⣭⣭⣭⡙⠻⣿⣿⣿⣿⣿\n",
        "⣿⣿⣿⣿⡿⢋⣴⣿⣿⠿⢟⣛⣛⣛⠿⢷⡹⣿⣿⣿⣿⣿⣿⣆⠹⣿⣿⣿⣿\n",
        "⣿⣿⣿⡿⢁⣾⣿⣿⣴⣿⣿⣿⣿⠿⠿⠷⠥⠱⣶⣶⣶⣶⡶⠮⠤⣌⡙⢿⣿\n",
        "⣿⡿⢛⡁⣾⣿⣿⣿⡿⢟⡫⢕⣪⡭⠥⢭⣭⣉⡂⣉⡒⣤⡭⡉⠩⣥⣰⠂⠹\n",
        "⡟⢠⣿⣱⣿⣿⣿⣏⣛⢲⣾⣿⠃⠄⠐⠈⣿⣿⣿⣿⣿⣿⠄⠁⠃⢸⣿⣿⡧\n",
        "⢠⣿⣿⣿⣿⣿⣿⣿⣿⣇⣊⠙⠳⠤⠤⠾⣟⠛⠍⣹⣛⣛⣢⣀⣠⣛⡯⢉⣰\n",
        "⣿⣿⣿⣿⣿⣿⣿⣿⣿⣿⣿⣿⣷⡶⠶⢒⣠⣼⣿⣿⣛⠻⠛⢛⣛⠉⣴⣿⣿\n",
        "⣿⣿⣿⣿⣿⣿⣿⡿⢛⡛⢿⣿⣿⣶⣿⣿⣿⣿⣿⣿⣿⣿⣿⣿⣿⣷⡈⢿⣿\n",
        "⣿⣿⣿⣿⣿⣿⣿⠸⣿⡻⢷⣍⣛⠻⠿⠿⣿⣿⣿⣿⣿⣿⣿⣿⣿⠿⢇⡘⣿\n",
        "⣿⣿⣿⣿⣿⣿⣿⣷⣝⠻⠶⣬⣍⣛⣛⠓⠶⠶⠶⠤⠬⠭⠤⠶⠶⠞⠛⣡⣿\n",
        "⢿⣿⣿⣿⣿⣿⣿⣿⣿⣿⣷⣶⣬⣭⣍⣙⣛⣛⣛⠛⠛⠛⠿⠿⠿⠛⣠⣿⣿\n",
        "⣦⣈⠉⢛⠻⠿⠿⢿⣿⣿⣿⣿⣿⣿⣿⣿⣿⣿⣿⡿⠿⠛⣁⣴⣾⣿⣿⣿⣿\n",
        "⣿⣿⣿⣶⣮⣭⣁⣒⣒⣒⠂⠠⠬⠭⠭⠭⢀⣀⣠⣄⡘⠿⣿⣿⣿⣿⣿⣿⣿\n",
        "⣿⣿⣿⣿⣿⣿⣿⣿⣿⣿⣿⣿⣿⣿⣿⣿⣿⣿⣿⣿⣿⣦⡈⢿⣿⣿⣿⣿⣿\n",
        "\n",
        "\n",
        "\n"
      ]
    },
    {
      "cell_type": "code",
      "execution_count": 5,
      "metadata": {
        "id": "x3j6Bsu9AoT6"
      },
      "outputs": [
        {
          "data": {
            "image/png": "[encoded data removed]",
            "text/plain": [
              "<Figure size 1200x600 with 10 Axes>"
            ]
          },
          "metadata": {},
          "output_type": "display_data"
        }
      ],
      "source": [
        "images = trainset.data.numpy()\n",
        "labels = trainset.targets.numpy()\n",
        "\n",
        "fig, axs = plt.subplots(nrows=2, ncols=5, figsize=(12, 6))\n",
        "axs = axs.flatten()\n",
        "\n",
        "for i in range(10):\n",
        "    img = images[labels == i][0]\n",
        "    axs[i].imshow(img, cmap = \"grey\")\n",
        "    axs[i].set_title(f\"{i}\")\n",
        "    axs[i].axis(\"off\")\n",
        "plt.tight_layout()\n",
        "plt.show()"
      ]
    },
    {
      "cell_type": "markdown",
      "metadata": {
        "id": "dLCfnFW-JtGx"
      },
      "source": [
        "### Задание 2. Строим свой первый MLP\n",
        "\n",
        "**4** балла\n",
        "\n",
        "MLP (multilayer perceptron) или нейронная сеть из полносвязных (линейных) слоев, это мы уже знаем.\n",
        "\n",
        "Опишите структуру сети: 3 полносвязных слоя + функции активации на ваш выбор. **Подумайте** про активацию после последнего слоя!\n",
        "\n",
        "Сеть на выходе 1 слоя должна иметь 256 признаков, на выходе из 2 128 признаков, на выходе из последнего столько, сколько у вас классов.\n",
        "\n",
        "https://pytorch.org/docs/stable/nn.html?highlight=activation#non-linear-activations-weighted-sum-nonlinearity"
      ]
    },
    {
      "cell_type": "code",
      "execution_count": 6,
      "metadata": {
        "id": "dhYBvQIXJdSz"
      },
      "outputs": [],
      "source": [
        "import torch.nn as nn\n",
        "\n",
        "class FCNet(nn.Module):\n",
        "    def __init__(self):\n",
        "        super().__init__() #  это надо помнить!\n",
        "        self.fc1 = nn.Linear(784, 256)\n",
        "        self.fc2 = nn.Linear(256, 128)\n",
        "        self.fc3 = nn.Linear(128, 10)\n",
        "\n",
        "\n",
        "    def forward(self, x):  # Forward вызывается внутри метода __call__ родительского класса\n",
        "        ## x -> тензор размерности (BATCH_SIZE, N_CHANNELS, WIDTH, HEIGHT)\n",
        "        ## надо подумать над тем, что у нас полносвязные слои принимают векторы\n",
        "\n",
        "        x = x.view(-1, 28*28) # переведем картинку в вектор\n",
        "        x = self.fc1(x)\n",
        "        x = torch.nn.functional.relu(x)\n",
        "        x = self.fc2(x)\n",
        "        x = torch.nn.functional.relu(x)\n",
        "        logits = self.fc3(x)\n",
        "\n",
        "        return logits"
      ]
    },
    {
      "cell_type": "markdown",
      "metadata": {
        "id": "uI0R77EQNKef"
      },
      "source": [
        "Сколько обучаемых параметров у вашей модели (весов и смещений)?\n",
        "\n",
        "**Ответ:**"
      ]
    },
    {
      "cell_type": "code",
      "execution_count": 7,
      "metadata": {},
      "outputs": [
        {
          "name": "stdout",
          "output_type": "stream",
          "text": [
            "Количество весов: 234752\n",
            "Смещений: 394\n"
          ]
        }
      ],
      "source": [
        "print(f'Количество весов: {28*28*256 + 256*128 + 128*10}')\n",
        "print(f'Смещений: {256+128+10}')"
      ]
    },
    {
      "cell_type": "markdown",
      "metadata": {
        "id": "iwGllji2M4lp"
      },
      "source": [
        "### Задание 3. Напишите код для обучения модели\n",
        "\n",
        "**5** баллов\n",
        "\n",
        "Можно (и нужно) подглядывать в код семинара по пайторчу. Вам нужно создать модель, определить функцию потерь и оптимизатор (начнем с `SGD`). Дальше нужно обучать модель, при помощи тренировочного `Dataloader'a` и считать лосс на тренировочном и тестовом `Dataloader'ах`."
      ]
    },
    {
      "cell_type": "markdown",
      "metadata": {
        "id": "Grv9xcybRfCX"
      },
      "source": [
        "Напишем функцию для рассчета `accuracy`:"
      ]
    },
    {
      "cell_type": "code",
      "execution_count": 8,
      "metadata": {
        "id": "9D2QPFe5JdVc"
      },
      "outputs": [],
      "source": [
        "def get_accuracy(model, dataloader):\n",
        "    \"\"\"\n",
        "    model - обученная нейронная сеть\n",
        "    dataloader - даталоадер, на котором вы хотите посчитать accuracy\n",
        "    \"\"\"\n",
        "    correct = 0\n",
        "    total = 0\n",
        "    with torch.no_grad(): # Тензоры внутри этого блока будут иметь requires_grad=False\n",
        "        for images, labels in dataloader:\n",
        "            outputs = model(images)\n",
        "            _, predicted = torch.max(outputs.data, 1)\n",
        "            total += labels.size(0)\n",
        "            correct += (predicted == labels).sum().item()\n",
        "    accuracy = correct / total\n",
        "\n",
        "    return accuracy"
      ]
    },
    {
      "cell_type": "markdown",
      "metadata": {
        "id": "D3EmoWJyTBkE"
      },
      "source": [
        "#### Основной цикл обучения\n",
        "\n",
        "Этот код можно (и зачастую нужно) выносить в отдельную функцию, но пока что можете это не делать, все по желанию)"
      ]
    },
    {
      "cell_type": "code",
      "execution_count": 9,
      "metadata": {
        "id": "uIZKSOdgUi3e"
      },
      "outputs": [],
      "source": [
        "# Создадим объект модели\n",
        "fc_net = FCNet()\n",
        "# Определим функцию потерь\n",
        "loss_function = nn.CrossEntropyLoss()\n",
        "# Создадим оптимизатор для нашей сети\n",
        "lr = 0.001 # скорость обучения\n",
        "optimizer = torch.optim.Adam(fc_net.parameters(), lr=3e-4)"
      ]
    },
    {
      "cell_type": "markdown",
      "metadata": {
        "id": "uKYzXFqoX_fd"
      },
      "source": [
        "Напишите цикл обучения. Для начала хватит 10 эпох. Какое значение `accuracy` на тестовой выборке удалось получить?"
      ]
    },
    {
      "cell_type": "code",
      "execution_count": 10,
      "metadata": {
        "id": "Ma2bshC6MxI6"
      },
      "outputs": [
        {
          "name": "stdout",
          "output_type": "stream",
          "text": [
            "Epoch 1 loss=0.9029\n",
            "Epoch 2 loss=0.4498\n",
            "Epoch 3 loss=0.3577\n",
            "Epoch 4 loss=0.2979\n",
            "Epoch 5 loss=0.2569\n",
            "Epoch 6 loss=0.2210\n",
            "Epoch 7 loss=0.1912\n",
            "Epoch 8 loss=0.1692\n",
            "Epoch 9 loss=0.1476\n",
            "Epoch 10 loss=0.1307\n"
          ]
        }
      ],
      "source": [
        "n_epochs = 10\n",
        "loss_history = []\n",
        "\n",
        "for i in range(n_epochs):\n",
        "    i_loss = 0\n",
        "    for images, labels in trainloader: \n",
        "        optimizer.zero_grad() \n",
        "        outputs = fc_net(images) \n",
        "        loss = loss_function(outputs, labels) \n",
        "        loss.backward() \n",
        "        optimizer.step() \n",
        "\n",
        "        i_loss += loss.item()\n",
        "\n",
        "    loss_history.append(i_loss/len(trainloader))\n",
        "    print(f\"Epoch {i+1} loss={loss_history[i]:.4f}\")"
      ]
    },
    {
      "cell_type": "code",
      "execution_count": 11,
      "metadata": {
        "id": "2cB5LRbrS3BN"
      },
      "outputs": [
        {
          "data": {
            "text/plain": [
              "0.8765"
            ]
          },
          "execution_count": 11,
          "metadata": {},
          "output_type": "execute_result"
        }
      ],
      "source": [
        "get_accuracy(fc_net, testloader)"
      ]
    },
    {
      "cell_type": "markdown",
      "metadata": {
        "id": "4HTJzBM8Yk1R"
      },
      "source": [
        "### Задание 4. Изучение влияния нормализации\n",
        "\n",
        "**3** балла\n",
        "\n",
        "Вы могли заметить, что мы забыли провести нормализацию наших данных, а для нейронных сетей это может быть очень критично.\n",
        "\n",
        "Нормализуйте данные.\n",
        "\n",
        "* Подсчитайте среднее значение и стандартное отклонение интенсивности пикселей для всех тренировочных данных\n",
        "* Нормализуйте данные с использованием этих параметров (используйте трансформацию `Normalize`)\n",
        "\n",
        "\n",
        "Оцените влияние нормировки данных."
      ]
    },
    {
      "cell_type": "code",
      "execution_count": 12,
      "metadata": {
        "id": "FHlDaYWGR6YA"
      },
      "outputs": [
        {
          "name": "stdout",
          "output_type": "stream",
          "text": [
            "tensor(0.1918) tensor(0.3483)\n"
          ]
        }
      ],
      "source": [
        "mean = trainset.data.float().mean() / 255\n",
        "std = trainset.data.float().std() / 255\n",
        "print(mean, std)\n",
        "\n",
        "transform_with_norm = torchvision.transforms.Compose([\n",
        "                torchvision.transforms.ToTensor(),\n",
        "                torchvision.transforms.Normalize(mean, std)\n",
        "            ])\n",
        "\n",
        "trainset.transform = transform_with_norm\n",
        "testset.transform = transform_with_norm"
      ]
    },
    {
      "cell_type": "code",
      "execution_count": 13,
      "metadata": {
        "id": "Qj93J3X_R6aa"
      },
      "outputs": [],
      "source": [
        "fc_net = FCNet()\n",
        "loss_function = nn.CrossEntropyLoss()\n",
        "lr = 0.001\n",
        "optimizer = torch.optim.Adam(fc_net.parameters(), lr=3e-4)"
      ]
    },
    {
      "cell_type": "code",
      "execution_count": 14,
      "metadata": {
        "id": "VWZtYBCvAoWQ"
      },
      "outputs": [
        {
          "name": "stdout",
          "output_type": "stream",
          "text": [
            "Epoch 1 loss=0.6880\n",
            "Epoch 2 loss=0.3081\n",
            "Epoch 3 loss=0.2254\n",
            "Epoch 4 loss=0.1757\n",
            "Epoch 5 loss=0.1412\n",
            "Epoch 6 loss=0.1136\n",
            "Epoch 7 loss=0.0926\n",
            "Epoch 8 loss=0.0765\n",
            "Epoch 9 loss=0.0629\n",
            "Epoch 10 loss=0.0516\n"
          ]
        }
      ],
      "source": [
        "n_epochs = 10\n",
        "loss_history = []\n",
        "\n",
        "for i in range(n_epochs):\n",
        "    i_loss = 0\n",
        "    for images, labels in trainloader: \n",
        "        optimizer.zero_grad() \n",
        "        outputs = fc_net(images) \n",
        "        loss = loss_function(outputs, labels) \n",
        "        loss.backward() \n",
        "        optimizer.step() \n",
        "\n",
        "        i_loss += loss.item()\n",
        "\n",
        "    loss_history.append(i_loss/len(trainloader))\n",
        "    print(f\"Epoch {i+1} loss={loss_history[i]:.4f}\")\n"
      ]
    },
    {
      "cell_type": "code",
      "execution_count": 15,
      "metadata": {
        "id": "Gfbv9OIAAoYT"
      },
      "outputs": [
        {
          "data": {
            "text/plain": [
              "0.8946"
            ]
          },
          "execution_count": 15,
          "metadata": {},
          "output_type": "execute_result"
        }
      ],
      "source": [
        "get_accuracy(fc_net, testloader)"
      ]
    },
    {
      "cell_type": "markdown",
      "metadata": {
        "id": "RcIJvhWkcjlh"
      },
      "source": [
        "Как изменилась `accuracy` после нормализации?"
      ]
    },
    {
      "cell_type": "markdown",
      "metadata": {},
      "source": [
        "Слегка увеличилась"
      ]
    },
    {
      "cell_type": "markdown",
      "metadata": {
        "id": "atcfzu4acxP2"
      },
      "source": [
        "### Задание 5. Изучение влияния функции активации\n",
        "\n",
        "**3** балла\n",
        "\n",
        "Исследуйте влияние функций активации на скорость обучения и точность предсказаний модели.\n",
        "\n",
        "Используйте три функции:\n",
        "\n",
        "* [Sigmoid](https://pytorch.org/docs/stable/nn.functional.html#sigmoid)\n",
        "* [GELU](https://pytorch.org/docs/stable/nn.functional.html#gelu)\n",
        "* [Tanh](https://pytorch.org/docs/stable/generated/torch.nn.Tanh.html#torch.nn.Tanh)"
      ]
    },
    {
      "cell_type": "code",
      "execution_count": 16,
      "metadata": {
        "id": "bAESPpjGa3M1"
      },
      "outputs": [],
      "source": [
        "class FCNet_activation(FCNet):\n",
        "    def __init__(self, activation_func):\n",
        "        super().__init__()\n",
        "        self.fc1 = nn.Linear(784, 256)\n",
        "        self.fc2 = nn.Linear(256, 128)\n",
        "        self.fc3 = nn.Linear(128, 10)\n",
        "        self.activation = activation_func()\n",
        "\n",
        "    def forward(self, x):\n",
        "        x = x.view(-1, 28*28) \n",
        "        x = self.fc1(x)\n",
        "        x = self.activation(x)\n",
        "        x = self.fc2(x)\n",
        "        x = self.activation(x)\n",
        "        logits = self.fc3(x)\n",
        "\n",
        "        return logits"
      ]
    },
    {
      "cell_type": "code",
      "execution_count": 22,
      "metadata": {
        "id": "GdvHSFeKa2sW"
      },
      "outputs": [
        {
          "name": "stdout",
          "output_type": "stream",
          "text": [
            "Activation function is ReLU\n",
            "Epoch 1 loss 0.6839\n",
            "Epoch 2 loss 0.3044\n",
            "Epoch 3 loss 0.2229\n",
            "Epoch 4 loss 0.1737\n",
            "Epoch 5 loss 0.1396\n",
            "Epoch 6 loss 0.1130\n",
            "Epoch 7 loss 0.0927\n",
            "Epoch 8 loss 0.0765\n",
            "Epoch 9 loss 0.0630\n",
            "Epoch 10 loss 0.0497\n",
            "accuracy of ReLU 0.9016\n",
            "Activation function is Sigmoid\n",
            "Epoch 1 loss 1.5409\n",
            "Epoch 2 loss 0.7557\n",
            "Epoch 3 loss 0.5502\n",
            "Epoch 4 loss 0.4475\n",
            "Epoch 5 loss 0.3761\n",
            "Epoch 6 loss 0.3223\n",
            "Epoch 7 loss 0.2788\n",
            "Epoch 8 loss 0.2433\n",
            "Epoch 9 loss 0.2135\n",
            "Epoch 10 loss 0.1890\n",
            "accuracy of Sigmoid 0.8549\n",
            "Activation function is GELU\n",
            "Epoch 1 loss 0.6591\n",
            "Epoch 2 loss 0.2819\n",
            "Epoch 3 loss 0.2038\n",
            "Epoch 4 loss 0.1551\n",
            "Epoch 5 loss 0.1219\n",
            "Epoch 6 loss 0.0967\n",
            "Epoch 7 loss 0.0774\n",
            "Epoch 8 loss 0.0627\n",
            "Epoch 9 loss 0.0493\n",
            "Epoch 10 loss 0.0385\n",
            "accuracy of GELU 0.9055\n",
            "Activation function is Tanh\n",
            "Epoch 1 loss 0.7768\n",
            "Epoch 2 loss 0.3827\n",
            "Epoch 3 loss 0.2574\n",
            "Epoch 4 loss 0.1850\n",
            "Epoch 5 loss 0.1377\n",
            "Epoch 6 loss 0.1047\n",
            "Epoch 7 loss 0.0794\n",
            "Epoch 8 loss 0.0590\n",
            "Epoch 9 loss 0.0434\n",
            "Epoch 10 loss 0.0330\n",
            "accuracy of Tanh 0.8989\n"
          ]
        }
      ],
      "source": [
        "loss_function = nn.CrossEntropyLoss()\n",
        "\n",
        "act_func = [nn.ReLU, nn.Sigmoid, nn.GELU, nn.Tanh]\n",
        "\n",
        "for i in range(0, 4):\n",
        "  print(f'Activation function is {act_func[i].__name__}')\n",
        "  net_act = FCNet_activation(act_func[i])\n",
        "  optimizer = torch.optim.Adam(net_act.parameters(), lr=3e-4)\n",
        "  for epoch in range(n_epochs):\n",
        "      i_loss = 0\n",
        "      for images, labels in trainloader: \n",
        "          optimizer.zero_grad() \n",
        "          outputs = net_act(images) \n",
        "          loss = loss_function(outputs, labels)\n",
        "          loss.backward()\n",
        "          optimizer.step()\n",
        "          \n",
        "          i_loss += loss.item()\n",
        "\n",
        "      loss_history[i].append(i_loss/len(trainloader))\n",
        "      print(f\"Epoch {epoch+1} loss {loss_history[i][epoch]:.4f}\")\n",
        "\n",
        "  print(f'accuracy of {act_func[i].__name__}', get_accuracy(net_act, testloader))"
      ]
    },
    {
      "cell_type": "markdown",
      "metadata": {
        "id": "aG2Oyxy2egVV"
      },
      "source": [
        "С использованием какой функции активации удалось досчить наибольшей `accuracy`?"
      ]
    },
    {
      "cell_type": "markdown",
      "metadata": {},
      "source": [
        "Наибольшее значение accuracy у GeLu"
      ]
    },
    {
      "cell_type": "markdown",
      "metadata": {
        "id": "20Ls3Bfsifqd"
      },
      "source": [
        "### Задание 6. Другие оптимизаторы\n",
        "\n",
        "**4** балла\n",
        "\n",
        "Исследуйте влияние оптимизаторов на скорость обучения и точность предсказаний модели.\n",
        "\n",
        "Попробуйте следующие:\n",
        "\n",
        "* [Adam](https://pytorch.org/docs/stable/generated/torch.optim.Adam.html#torch.optim.Adam)\n",
        "* [RMSprop](https://pytorch.org/docs/stable/generated/torch.optim.RMSprop.html#torch.optim.RMSprop)\n",
        "* [Adagrad](https://pytorch.org/docs/stable/generated/torch.optim.Adagrad.html#torch.optim.Adagrad)\n",
        "\n",
        "Вам нужно снова обучить 3 модели и сравнить их перформанс (функцию активации используйте ту, которая показала себя лучше всего)."
      ]
    },
    {
      "cell_type": "code",
      "execution_count": 24,
      "metadata": {
        "id": "rzL2LdA-ifJh"
      },
      "outputs": [
        {
          "name": "stdout",
          "output_type": "stream",
          "text": [
            "Optimisation function is Adam\n",
            "Epoch 1 loss 0.6603\n",
            "Epoch 2 loss 0.2792\n",
            "Epoch 3 loss 0.2024\n",
            "Epoch 4 loss 0.1542\n",
            "Epoch 5 loss 0.1211\n",
            "Epoch 6 loss 0.0977\n",
            "Epoch 7 loss 0.0787\n",
            "Epoch 8 loss 0.0630\n",
            "Epoch 9 loss 0.0511\n",
            "Epoch 10 loss 0.0398\n",
            "accuracy of Adam 0.9013\n",
            "Optimisation function is Adagrad\n",
            "Epoch 1 loss 1.3391\n",
            "Epoch 2 loss 0.8156\n",
            "Epoch 3 loss 0.6946\n",
            "Epoch 4 loss 0.6337\n",
            "Epoch 5 loss 0.5944\n",
            "Epoch 6 loss 0.5661\n",
            "Epoch 7 loss 0.5440\n",
            "Epoch 8 loss 0.5263\n",
            "Epoch 9 loss 0.5107\n",
            "Epoch 10 loss 0.4976\n",
            "accuracy of Adagrad 0.7229\n",
            "Optimisation function is RMSprop\n",
            "Epoch 1 loss 0.4396\n",
            "Epoch 2 loss 0.2374\n",
            "Epoch 3 loss 0.1749\n",
            "Epoch 4 loss 0.1345\n",
            "Epoch 5 loss 0.1053\n",
            "Epoch 6 loss 0.0838\n",
            "Epoch 7 loss 0.0662\n",
            "Epoch 8 loss 0.0519\n",
            "Epoch 9 loss 0.0401\n",
            "Epoch 10 loss 0.0310\n",
            "accuracy of RMSprop 0.9034\n"
          ]
        }
      ],
      "source": [
        "from torch.optim import Adam, Adagrad, RMSprop\n",
        "loss_history = [[], [], []]\n",
        "opt_func = [Adam, Adagrad, RMSprop]\n",
        "\n",
        "for i in range(0, 3):\n",
        "  print(f'Optimisation function is {opt_func[i].__name__}')\n",
        "  net_opt = FCNet_activation(nn.GELU)\n",
        "  optimizer = opt_func[i](net_opt.parameters(), lr=3e-4)\n",
        "  for epoch in range(n_epochs):\n",
        "      i_loss = 0\n",
        "      for images, labels in trainloader: \n",
        "          optimizer.zero_grad() \n",
        "          outputs = net_opt(images) \n",
        "          loss = loss_function(outputs, labels)\n",
        "          loss.backward()\n",
        "          optimizer.step()\n",
        "          \n",
        "          i_loss += loss.item()\n",
        "\n",
        "      loss_history[i].append(i_loss/len(trainloader))\n",
        "      print(f\"Epoch {epoch+1} loss {loss_history[i][epoch]:.4f}\")\n",
        "\n",
        "  print(f'accuracy of {opt_func[i].__name__}', get_accuracy(net_opt, testloader))"
      ]
    },
    {
      "cell_type": "markdown",
      "metadata": {},
      "source": [
        "Adam и RMSprop показывают схожие результаты"
      ]
    },
    {
      "cell_type": "markdown",
      "metadata": {
        "id": "eHA48PsperxS"
      },
      "source": [
        "### Задание 7. Реализация ReLU\n",
        "\n",
        "**4** балла\n",
        "\n",
        "Самостоятельно реализуйте функцию активации ReLU.\n",
        "Замените в уже обученной модели функцию активации на вашу. Убедитесь что ничего не изменилась."
      ]
    },
    {
      "cell_type": "code",
      "execution_count": 25,
      "metadata": {
        "id": "63uTkUp-a2xr"
      },
      "outputs": [],
      "source": [
        "class CustomReLU(nn.Module):\n",
        "    def __init__(self):\n",
        "        super().__init__()\n",
        "\n",
        "    def forward(self, x):\n",
        "\n",
        "        zeros = torch.zeros(x.shape)\n",
        "        x[x < zeros] = 0\n",
        "        \n",
        "        return x\n"
      ]
    },
    {
      "cell_type": "markdown",
      "metadata": {
        "id": "xsKzxa33fhbN"
      },
      "source": [
        "Заново обучите модель и проверьте правильность реализации `CustomReLU`."
      ]
    },
    {
      "cell_type": "code",
      "execution_count": 34,
      "metadata": {
        "id": "ePP55RBeecYh"
      },
      "outputs": [
        {
          "name": "stdout",
          "output_type": "stream",
          "text": [
            "Epoch 1 loss=0.4638\n",
            "Epoch 2 loss=0.1894\n",
            "Epoch 3 loss=0.1256\n",
            "Epoch 4 loss=0.0879\n",
            "Epoch 5 loss=0.0624\n",
            "Epoch 6 loss=0.0447\n",
            "Epoch 7 loss=0.0320\n",
            "Epoch 8 loss=0.0237\n",
            "Epoch 9 loss=0.0191\n",
            "Epoch 10 loss=0.0205\n",
            "accuracy=0.9027.\n"
          ]
        }
      ],
      "source": [
        "class FCNet_cust(nn.Module):\n",
        "    def __init__(self):\n",
        "        super().__init__() \n",
        "        self.fc1 = nn.Linear(784, 256)\n",
        "        self.fc2 = nn.Linear(256, 128)\n",
        "        self.fc3 = nn.Linear(128, 10)\n",
        "        \n",
        "\n",
        "    def forward(self, x):  \n",
        "        x = x.view(-1, 784) \n",
        "        x = self.fc1(x)\n",
        "        x = CustomReLU()(x)\n",
        "        x = self.fc2(x)\n",
        "        x = CustomReLU()(x)\n",
        "        x = self.fc3(x)\n",
        "        \n",
        "        return CustomReLU()(x)\n",
        "\n",
        "loss_history = []\n",
        "n_epochs = 10\n",
        "\n",
        "fc_net_cust = FCNet()\n",
        "loss_function = nn.CrossEntropyLoss()\n",
        "optimizer = torch.optim.Adam(fc_net_cust.parameters())\n",
        "\n",
        "for i in range(n_epochs):\n",
        "    i_loss = 0\n",
        "    for images, labels in trainloader: \n",
        "        optimizer.zero_grad() \n",
        "        outputs = fc_net_cust(images) \n",
        "        loss = loss_function(outputs, labels) \n",
        "        loss.backward() \n",
        "        optimizer.step() \n",
        "\n",
        "        i_loss += loss.item()\n",
        "\n",
        "    loss_history.append(i_loss/len(trainloader))\n",
        "    print(f\"Epoch {i+1} loss={loss_history[i]:.4f}\")\n",
        "\n",
        "\n",
        "print(f\"accuracy={get_accuracy(fc_net_cust, testloader)}.\")"
      ]
    },
    {
      "cell_type": "markdown",
      "metadata": {
        "id": "vWBG1mMwgN17"
      },
      "source": [
        "### Задание 8. Генерация картинок\n",
        "\n",
        "**3** балла\n",
        "\n",
        "Придумайте 3 предложения и сгенерируйте при помощи них 3 картинки, используя телеграм бота [ruDALLE](https://t.me/sber_rudalle_xl_bot). Прикрепите сюда ваши картины."
      ]
    },
    {
      "cell_type": "markdown",
      "metadata": {},
      "source": [
        "Телеграм бот не захотел со мной общаться, поэтому я воспользовалась сайтом (https://rudalle.ru/demo). Вот, что получилось:"
      ]
    },
    {
      "cell_type": "markdown",
      "metadata": {},
      "source": [
        "## Ночь в музее Якубовича\n",
        "![](https://sun9-7.userapi.com/impg/ebcf73T8YKWSd9cAKhG5uVqiL6gDf9MJ0Rwnyw/oE6Nw3wJGns.jpg?size=1024x1024&quality=95&sign=4eaa6f23e784d797c589ff29a32e74f7&type=album)"
      ]
    },
    {
      "cell_type": "markdown",
      "metadata": {},
      "source": [
        "## Лабораторная мышь (крадется)\n",
        "![](https://sun9-61.userapi.com/impg/P39ODZFHP3PySFsYqPA7Vt8559hkkSM6ySpeMg/RBthl597Rh8.jpg?size=1024x1024&quality=95&sign=8562a4d4963400ee93bd121ee3265021&type=album)"
      ]
    },
    {
      "cell_type": "markdown",
      "metadata": {},
      "source": [
        "## Нейронные рыбы (привет из каламбурошной)\n",
        "![](https://sun9-38.userapi.com/impg/C4RYry9tgukVs8AwueQqiWOB_XtkFlQ5aoo1YA/aLRDekXkF_M.jpg?size=1024x1024&quality=95&sign=349fa5f47b6d0b6e1ea0418ed606c366&type=album)\n"
      ]
    },
    {
      "cell_type": "markdown",
      "metadata": {},
      "source": [
        "Также поигралась с  Kandinsky 2.2\n",
        "Узрите! Мокрая биология\n",
        "\n",
        "![](https://sun9-4.userapi.com/impg/FmtaE8XWKi0CMWofq2uKxOG6mk9PJOtTqbKVCw/dkA5X4yj5ik.jpg?size=512x512&quality=95&sign=43f7944be16d50d244204174d6555296&type=album)"
      ]
    }
  ],
  "metadata": {
    "colab": {
      "authorship_tag": "ABX9TyN3ji5dthhFgQhP1CJ7JjiU",
      "include_colab_link": true,
      "provenance": []
    },
    "kernelspec": {
      "display_name": "Python 3",
      "name": "python3"
    },
    "language_info": {
      "codemirror_mode": {
        "name": "ipython",
        "version": 3
      },
      "file_extension": ".py",
      "mimetype": "text/x-python",
      "name": "python",
      "nbconvert_exporter": "python",
      "pygments_lexer": "ipython3",
      "version": "3.12.0"
    }
  },
  "nbformat": 4,
  "nbformat_minor": 0
}
